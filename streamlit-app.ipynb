{
 "cells": [
  {
   "cell_type": "markdown",
   "metadata": {},
   "source": [
    "# Architecture Documentation for Snowflake Data Access Solution\n",
    "\n",
    "## Overview\n",
    "This architecture describes a solution for secure and scalable data access to Snowflake, utilizing AWS cloud services. It includes components for data ingestion, access control, data cataloging, and querying.\n"
   ]
  },
  {
   "cell_type": "code",
   "execution_count": null,
   "metadata": {},
   "outputs": [],
   "source": [
    "from IPython.display import Image, display\n",
    "display(Image(filename='build_streamlit_app.png'))"
   ]
  },
  {
   "cell_type": "markdown",
   "metadata": {},
   "source": [
    "## 1. Components\n",
    "\n",
    "### **1.1 User Interaction and Data Upload**\n",
    "- **Upload CSV**: Users can upload CSV files, which are stored in **S3**.\n",
    "- **Easy IDA**: Provides user authentication and identity management, leveraging **Route53 DNS** for secure access.\n",
    "\n",
    "### **1.2 Data Ingestion and Cataloging**\n",
    "- **S3**: Stores CSV files uploaded by users.\n",
    "- **Crawlers**: Automatically discover and catalog data stored in S3.\n",
    "- **Data Catalog**: Stores metadata about the data, providing a centralized view of available datasets.\n",
    "\n",
    "### **1.3 AWS Cloud/Application Layer**\n",
    "- **Control Plane API**: Manages access control and permissions.\n",
    "- **Streamlit Application**: A web application providing a user interface to interact with the data.\n",
    "- **Entitlement API**: Controls data access based on user entitlements.\n",
    "- **boto3 SDK**: Used for interacting with AWS services.\n",
    "\n",
    "### **1.4 Snowflake Connectivity/Access (FID Based)**\n",
    "- **Snowflake DB**: The Snowflake data warehouse.\n",
    "- **IAM Anywhere**: Provides identity and access management across various resources.\n",
    "- **Amazon Aurora**: Used as datalake.\n",
    "\n",
    "### **1.5 Data Querying**\n",
    "- **Athena SQL**: Enables querying data stored in S3 using SQL.\n",
    "\n"
   ]
  },
  {
   "cell_type": "markdown",
   "metadata": {},
   "source": [
    "## 2. Workflow\n",
    "\n",
    "1.  **User Upload**: Users upload CSV files via the web interface (Streamlit Application) and authenticate using Easy IDA.\n",
    "2.  **Data Storage**: Uploaded CSV files are stored in S3 buckets.\n",
    "3.  **Data Cataloging**: AWS Crawlers automatically crawl the data in S3 and update the Data Catalog with metadata.\n",
    "4.  **Access Control**: The Streamlit Application, Control Plane API, and Entitlement API ensure that users have the necessary permissions to access specific datasets in Snowflake.\n",
    "5.  **Data Querying**: Users can query the data in Snowflake through Athena SQL. Boto3 SDK is used to interact with various AWS services.\n"
   ]
  },
  {
   "cell_type": "markdown",
   "metadata": {},
   "source": [
    "## 3. Key Technologies\n",
    "\n",
    "| Component | Technology |\n",
    "| --------- | ---------- |\n",
    "| Authentication | Easy IDA, Route53 DNS |\n",
    "| Data Storage | S3 |\n",
    "| Data Warehouse | Snowflake DB |\n",
    "| Querying | Athena SQL |\n",
    "| IAM | IAM Anywhere |\n",
    "| Data Lake | Amazon Aurora|\n",
    "| Data Catalog | AWS Glue Data Catalog |\n",
    "| Web Application | Streamlit Application |\n"
   ]
  },
  {
   "cell_type": "markdown",
   "metadata": {},
   "source": [
    "## 4. Benefits\n",
    "\n",
    "- **Scalability**: Leverages AWS cloud services for scalable data storage and querying.\n",
    "- **Security**: Secure access to data through Easy IDA, Entitlement API, and IAM.\n",
    "- **Centralized Data Catalog**: Provides a unified view of data available for querying.\n",
    "- **Flexibility**: Supports querying data using standard SQL (Athena SQL).\n"
   ]
  }
 ],
 "metadata": {
  "kernelspec": {
   "display_name": "Python 3",
   "language": "python",
   "name": "python3"
  },
  "language_info": {
   "codemirror_mode": {
    "name": "ipython",
    "version": 3
   },
   "file_extension": ".py",
   "mimetype": "text/x-python",
   "name": "python",
   "nbconvert_exporter": "python",
   "pygments_lexer": "ipython3",
   "version": "3.8.10"
  }
 },
 "nbformat": 4,
 "nbformat_minor": 5
}
